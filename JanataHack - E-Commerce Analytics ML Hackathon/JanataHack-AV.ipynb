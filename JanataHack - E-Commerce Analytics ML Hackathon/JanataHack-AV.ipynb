{
 "cells": [
  {
   "cell_type": "code",
   "execution_count": null,
   "metadata": {},
   "outputs": [],
   "source": [
    "import pandas as pd\n",
    "import numpy as np\n",
    "\n",
    "from sklearn.preprocessing import LabelEncoder\n",
    "from xgboost import XGBClassifier\n",
    "from sklearn.svm import SVC\n",
    "from sklearn.ensemble import RandomForestClassifier\n",
    "\n",
    "import warnings\n",
    "warnings.filterwarnings('ignore')"
   ]
  },
  {
   "cell_type": "markdown",
   "metadata": {},
   "source": [
    "# Import Data"
   ]
  },
  {
   "cell_type": "code",
   "execution_count": null,
   "metadata": {},
   "outputs": [],
   "source": [
    "train = pd.read_csv(\"train_8wry4cB.csv\")\n",
    "test = pd.read_csv(\"test_Yix80N0.csv\")"
   ]
  },
  {
   "cell_type": "markdown",
   "metadata": {},
   "source": [
    "# Training"
   ]
  },
  {
   "cell_type": "markdown",
   "metadata": {},
   "source": [
    "### Preprocess Training Data"
   ]
  },
  {
   "cell_type": "code",
   "execution_count": null,
   "metadata": {
    "scrolled": true
   },
   "outputs": [],
   "source": [
    "train_v1 = (train.set_index(['session_id', 'startTime', 'endTime', 'gender'])\n",
    "               .stack()\n",
    "               .str.split(';', expand=True)\n",
    "               .stack()\n",
    "               .unstack(-2)\n",
    "               .reset_index(-1, drop=True)\n",
    "               .reset_index()\n",
    "            )\n",
    "train_v1[['category', 'sub category', 'sub-sub category', 'product', '/']] = (pd.DataFrame(train_v1['ProductList'].str\n",
    "                                                                                           .split('/').values.tolist()))\n",
    "train_v1['SecsTimeDiff'] = np.abs(pd.to_datetime(train_v1['endTime'])-pd.to_datetime(train_v1['startTime'])).dt.total_seconds()\n",
    "train_v1['MinsTimeDiff'] = np.abs(pd.to_datetime(train_v1['endTime'])-pd.to_datetime(train_v1['startTime'])).dt.total_seconds() / 60\n",
    "train_v1.drop(['startTime', 'endTime', 'ProductList', '/', 'SecsTimeDiff'], axis=1, inplace=True)\n",
    "train_v1 = train_v1[['session_id', 'category', 'sub category', 'sub-sub category', 'product', 'MinsTimeDiff', 'gender']]\n",
    "le = LabelEncoder()\n",
    "train_v1.gender = le.fit_transform(train_v1.gender)\n",
    "train_v1.replace('([A-Za-z]+)', '', regex=True, inplace=True)\n",
    "train_v1 = train_v1.apply(pd.to_numeric)\n",
    "train_v1 = train_v1.sample(frac=1).reset_index(drop=True)\n",
    "train_v1.head()"
   ]
  },
  {
   "cell_type": "markdown",
   "metadata": {},
   "source": [
    "### Feature Selection"
   ]
  },
  {
   "cell_type": "code",
   "execution_count": null,
   "metadata": {},
   "outputs": [],
   "source": [
    "train_X1 = train_v1.iloc[:,:2]\n",
    "train_X2 = train_v1.iloc[:,:3]\n",
    "train_X3 = train_v1.iloc[:,:4]\n",
    "train_y = train_v1.iloc[:,-1]"
   ]
  },
  {
   "cell_type": "markdown",
   "metadata": {},
   "source": [
    "### Model Training"
   ]
  },
  {
   "cell_type": "code",
   "execution_count": null,
   "metadata": {},
   "outputs": [],
   "source": [
    "model_RF1 = RandomForestClassifier( n_estimators=100, bootstrap = True, max_features = 'sqrt', random_state=123)\n",
    "model_RF2 = RandomForestClassifier( n_estimators=100, bootstrap = True, max_features = 'sqrt', random_state=123)\n",
    "model_RF1.fit(train_X1, train_y)\n",
    "model_RF2.fit(train_X2, train_y)\n",
    "\n",
    "model_XGB1 = XGBClassifier(random_state=123)\n",
    "model_XGB2 = XGBClassifier(random_state=123)\n",
    "model_XGB3 = XGBClassifier(random_state=123)\n",
    "model_XGB1.fit(train_X1, train_y)\n",
    "model_XGB2.fit(train_X2, train_y)\n",
    "model_XGB3.fit(train_X3, train_y)\n",
    "\n",
    "model_SVM1 = SVC(random_state=123)\n",
    "model_SVM2 = SVC(random_state=123)\n",
    "model_SVM1.fit(train_X1, train_y)\n",
    "model_SVM2.fit(train_X2, train_y)"
   ]
  },
  {
   "cell_type": "markdown",
   "metadata": {},
   "source": [
    "# Testing"
   ]
  },
  {
   "cell_type": "markdown",
   "metadata": {},
   "source": [
    "### Preprocess Testing Data"
   ]
  },
  {
   "cell_type": "code",
   "execution_count": null,
   "metadata": {},
   "outputs": [],
   "source": [
    "test_v1 = (test.set_index(['session_id', 'startTime', 'endTime'])\n",
    "               .stack()\n",
    "               .str.split(';', expand=True)\n",
    "               .stack()\n",
    "               .unstack(-2)\n",
    "               .reset_index(-1, drop=True)\n",
    "               .reset_index()\n",
    "            )\n",
    "test_v1[['category', 'sub category', 'sub-sub category', 'product', '/']] = (pd.DataFrame(test_v1['ProductList'].str\n",
    "                                                                                           .split('/').values.tolist()))\n",
    "\n",
    "test_v1['SecsTimeDiff'] = np.abs(pd.to_datetime(test_v1['endTime'])-pd.to_datetime(test_v1['startTime'])).dt.total_seconds()\n",
    "test_v1['MinsTimeDiff'] = np.abs(pd.to_datetime(test_v1['endTime'])-pd.to_datetime(test_v1['startTime'])).dt.total_seconds() / 60\n",
    "\n",
    "test_v1.drop(['startTime', 'endTime', 'ProductList', '/', 'SecsTimeDiff'], axis=1, inplace=True)\n",
    "test_v2 = test_v1.replace('([A-Za-z]+)', '', regex=True)\n",
    "test_v2 = test_v2.apply(pd.to_numeric)\n",
    "test_v2.head()"
   ]
  },
  {
   "cell_type": "markdown",
   "metadata": {},
   "source": [
    "### Feature Selection"
   ]
  },
  {
   "cell_type": "code",
   "execution_count": null,
   "metadata": {},
   "outputs": [],
   "source": [
    "test_X1 = test_v2.iloc[:,:2]\n",
    "test_X2 = test_v2.iloc[:,:3]\n",
    "test_X3 = test_v2.iloc[:,:4]"
   ]
  },
  {
   "cell_type": "markdown",
   "metadata": {},
   "source": [
    "### Model Testing"
   ]
  },
  {
   "cell_type": "code",
   "execution_count": null,
   "metadata": {},
   "outputs": [],
   "source": [
    "result = pd.DataFrame()\n",
    "pred_RF1 = model_RF1.predict(test_X1)\n",
    "predictions_RF1 = [round(value) for value in pred_RF1]\n",
    "result['gender_RF1'] = list(le.inverse_transform(predictions_RF1))\n",
    "pred_RF2 = model_RF2.predict(test_X2)\n",
    "predictions_RF2 = [round(value) for value in pred_RF2]\n",
    "result['gender_RF2'] = list(le.inverse_transform(predictions_RF2))\n",
    "\n",
    "pred_XGB1 = model_XGB1.predict(test_X1)\n",
    "predictions_XGB1 = [round(value) for value in pred_XGB1]\n",
    "result['gender_XGB1'] = list(le.inverse_transform(predictions_XGB1))\n",
    "pred_XGB2 = model_XGB2.predict(test_X2)\n",
    "predictions_XGB2 = [round(value) for value in pred_XGB2]\n",
    "result['gender_XGB2'] = list(le.inverse_transform(predictions_XGB2))\n",
    "pred_XGB3 = model_XGB3.predict(test_X3)\n",
    "predictions_XGB3 = [round(value) for value in pred_XGB3]\n",
    "result['gender_XGB3'] = list(le.inverse_transform(predictions_XGB3))\n",
    "\n",
    "pred_SVM1 = model_SVM1.predict(test_X1)\n",
    "predictions_SVM1 = [round(value) for value in pred_SVM1]\n",
    "result['gender_SVM1'] = list(le.inverse_transform(predictions_SVM1))\n",
    "pred_SVM2 = model_SVM2.predict(test_X2)\n",
    "predictions_SVM2 = [round(value) for value in pred_SVM2]\n",
    "result['gender_SVM2'] = list(le.inverse_transform(predictions_SVM2))\n",
    "\n",
    "\n",
    "result['session_id']=test_v1.session_id\n",
    "result['gender'] = result[['gender_RF1','gender_RF2', 'gender_XGB1', 'gender_XGB2', 'gender_XGB3', 'gender_SVM1', 'gender_SVM2']].mode(axis=1)\n",
    "result.drop(['gender_RF1','gender_RF2', 'gender_XGB1', 'gender_XGB2', 'gender_XGB3', 'gender_SVM1', 'gender_SVM2'],axis=1,inplace=True)\n",
    "result.drop_duplicates(subset=['session_id'], inplace=True)"
   ]
  },
  {
   "cell_type": "markdown",
   "metadata": {},
   "source": [
    "# Export Result"
   ]
  },
  {
   "cell_type": "code",
   "execution_count": null,
   "metadata": {},
   "outputs": [],
   "source": [
    "result.to_csv(\"final.csv\", index = False)"
   ]
  }
 ],
 "metadata": {
  "kernelspec": {
   "display_name": "Python 3",
   "language": "python",
   "name": "python3"
  },
  "language_info": {
   "codemirror_mode": {
    "name": "ipython",
    "version": 3
   },
   "file_extension": ".py",
   "mimetype": "text/x-python",
   "name": "python",
   "nbconvert_exporter": "python",
   "pygments_lexer": "ipython3",
   "version": "3.7.0"
  }
 },
 "nbformat": 4,
 "nbformat_minor": 2
}
